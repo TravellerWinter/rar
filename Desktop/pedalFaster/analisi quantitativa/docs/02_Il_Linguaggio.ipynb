{
 "cells": [
  {
   "cell_type": "markdown",
   "metadata": {},
   "source": [
    "# Il Linguaggio Python"
   ]
  },
  {
   "cell_type": "markdown",
   "metadata": {},
   "source": [
    "### Prime architetture elementari"
   ]
  },
  {
   "cell_type": "code",
   "execution_count": 1,
   "metadata": {},
   "outputs": [
    {
     "name": "stdout",
     "output_type": "stream",
     "text": [
      "['False', 'None', 'True', 'and', 'as', 'assert', 'async', 'await', 'break', 'class', 'continue', 'def', 'del', 'elif', 'else', 'except', 'finally', 'for', 'from', 'global', 'if', 'import', 'in', 'is', 'lambda', 'nonlocal', 'not', 'or', 'pass', 'raise', 'return', 'try', 'while', 'with', 'yield']\n"
     ]
    }
   ],
   "source": [
    "import keyword\n",
    "\n",
    "print(keyword.kwlist)"
   ]
  },
  {
   "cell_type": "code",
   "execution_count": 2,
   "metadata": {},
   "outputs": [
    {
     "name": "stdout",
     "output_type": "stream",
     "text": [
      "457.9999999999984\n"
     ]
    }
   ],
   "source": [
    "# Codice per calcolare il profitto o la perdita di un'operazione finanziaria\n",
    "\n",
    "prezzo_ingresso = 348.23\n",
    "prezzo_uscita = 352.81\n",
    "numero_azioni = 100\n",
    "\n",
    "profitto = numero_azioni * (prezzo_uscita - prezzo_ingresso)\n",
    "\n",
    "print(profitto)"
   ]
  },
  {
   "cell_type": "code",
   "execution_count": 3,
   "metadata": {},
   "outputs": [
    {
     "name": "stdout",
     "output_type": "stream",
     "text": [
      "Profitto operazione su titolo BA: 458.0 $\n"
     ]
    }
   ],
   "source": [
    "# Codice per calcolare il profitto o la perdita di un'operazione finanziaria\n",
    "\n",
    "ticker_strumento = \"BA\"\n",
    "prezzo_ingresso = 348.23\n",
    "prezzo_uscita = 352.81\n",
    "numero_azioni = 100\n",
    "\n",
    "profitto = round(numero_azioni * (prezzo_uscita - prezzo_ingresso), 2)\n",
    "\n",
    "print(\"Profitto operazione su titolo \" + ticker_strumento + \": \" + str(profitto) + \" $\")"
   ]
  },
  {
   "cell_type": "code",
   "execution_count": 4,
   "metadata": {},
   "outputs": [
    {
     "name": "stdout",
     "output_type": "stream",
     "text": [
      "<class 'float'>\n"
     ]
    }
   ],
   "source": [
    "print(type(profitto))"
   ]
  },
  {
   "cell_type": "code",
   "execution_count": 5,
   "metadata": {},
   "outputs": [
    {
     "name": "stdout",
     "output_type": "stream",
     "text": [
      "Profitto operazione su titolo BA: 458.0 $\n"
     ]
    }
   ],
   "source": [
    "# Codice per calcolare il profitto o la perdita di un'operazione finanziaria\n",
    "\n",
    "ticker_strumento = \"BA\"\n",
    "direzione_trade = \"LONG\"\n",
    "prezzo_ingresso = 348.23\n",
    "prezzo_uscita = 352.81\n",
    "numero_azioni = 100\n",
    "\n",
    "if direzione_trade == \"LONG\":\n",
    "    profitto = round(numero_azioni * (prezzo_uscita - prezzo_ingresso), 2)\n",
    "else:\n",
    "    profitto = -profitto\n",
    "\n",
    "print(\"Profitto operazione su titolo \" + ticker_strumento + \": \" + str(profitto) + \" $\")"
   ]
  },
  {
   "cell_type": "code",
   "execution_count": 6,
   "metadata": {},
   "outputs": [
    {
     "name": "stdout",
     "output_type": "stream",
     "text": [
      "Profitto operazione su titolo BA: -458.0 $\n"
     ]
    }
   ],
   "source": [
    "# Codice per calcolare il profitto o la perdita di un'operazione finanziaria\n",
    "\n",
    "ticker_strumento = \"BA\"\n",
    "direzione_trade = \"SHORT\"\n",
    "prezzo_ingresso = 348.23\n",
    "prezzo_uscita = 352.81\n",
    "numero_azioni = 100\n",
    "\n",
    "if direzione_trade == \"LONG\":\n",
    "    profitto = round(numero_azioni * (prezzo_uscita - prezzo_ingresso), 2)\n",
    "else:\n",
    "    profitto = -profitto\n",
    "\n",
    "print(\"Profitto operazione su titolo \" + ticker_strumento + \": \" + str(profitto) + \" $\")"
   ]
  },
  {
   "cell_type": "markdown",
   "metadata": {},
   "source": [
    "#### Modulo interattivo:"
   ]
  },
  {
   "cell_type": "code",
   "execution_count": 7,
   "metadata": {},
   "outputs": [
    {
     "name": "stdout",
     "output_type": "stream",
     "text": [
      "Inserire ticker strumento: BA\n",
      "Inserire direzione del trade [LONG-SHORT]: LONG\n",
      "Inserire prezzo di ingresso in posizione: 12.34\n",
      "Inserire prezzo di uscita dalla posizione: 13.27\n",
      "Inserire numero azioni: 100\n",
      "\n",
      "Profitto operazione su titolo BA: 93.0 $\n"
     ]
    }
   ],
   "source": [
    "# Codice per calcolare il profitto o la perdita di un'operazione finanziaria\n",
    "\n",
    "ticker_strumento = input(\"Inserire ticker strumento: \")\n",
    "direzione_trade = input(\"Inserire direzione del trade [LONG-SHORT]: \")\n",
    "prezzo_ingresso = float(input(\"Inserire prezzo di ingresso in posizione: \"))\n",
    "prezzo_uscita = float(input(\"Inserire prezzo di uscita dalla posizione: \"))\n",
    "numero_azioni = int(input(\"Inserire numero azioni: \"))\n",
    "\n",
    "if direzione_trade == \"LONG\":\n",
    "    profitto = round(numero_azioni * (prezzo_uscita - prezzo_ingresso), 2)\n",
    "else:\n",
    "    profitto = -profitto\n",
    "\n",
    "print(\"\")\n",
    "print(\"Profitto operazione su titolo \" + ticker_strumento + \": \" + str(profitto) + \" $\")"
   ]
  },
  {
   "cell_type": "markdown",
   "metadata": {},
   "source": [
    "### Liste, Array o Vettori"
   ]
  },
  {
   "cell_type": "code",
   "execution_count": 8,
   "metadata": {},
   "outputs": [
    {
     "name": "stdout",
     "output_type": "stream",
     "text": [
      "['AAPL', 'AMZN', 'BA', 'CSCO', 'GOOG', 'IBM', 'MSFT', 'NFLX', 'PFE', 'VZ']\n"
     ]
    }
   ],
   "source": [
    "titoli = [\"AAPL\",\"AMZN\",\"BA\",\"CSCO\",\"GOOG\",\"IBM\",\"MSFT\",\"NFLX\",\"PFE\",\"VZ\"]\n",
    "\n",
    "print(titoli)"
   ]
  },
  {
   "cell_type": "code",
   "execution_count": 9,
   "metadata": {},
   "outputs": [
    {
     "name": "stdout",
     "output_type": "stream",
     "text": [
      "<class 'list'>\n"
     ]
    }
   ],
   "source": [
    "print(type(titoli))"
   ]
  },
  {
   "cell_type": "code",
   "execution_count": 10,
   "metadata": {},
   "outputs": [
    {
     "name": "stdout",
     "output_type": "stream",
     "text": [
      "AAPL\n"
     ]
    }
   ],
   "source": [
    "print(titoli[0])"
   ]
  },
  {
   "cell_type": "code",
   "execution_count": 11,
   "metadata": {},
   "outputs": [
    {
     "name": "stdout",
     "output_type": "stream",
     "text": [
      "AMZN\n"
     ]
    }
   ],
   "source": [
    "print(titoli[1])"
   ]
  },
  {
   "cell_type": "code",
   "execution_count": 12,
   "metadata": {},
   "outputs": [
    {
     "name": "stdout",
     "output_type": "stream",
     "text": [
      "VZ\n"
     ]
    }
   ],
   "source": [
    "print(titoli[-1])"
   ]
  },
  {
   "cell_type": "code",
   "execution_count": 13,
   "metadata": {},
   "outputs": [
    {
     "name": "stdout",
     "output_type": "stream",
     "text": [
      "PFE\n"
     ]
    }
   ],
   "source": [
    "print(titoli[-2])"
   ]
  },
  {
   "cell_type": "code",
   "execution_count": 14,
   "metadata": {},
   "outputs": [
    {
     "name": "stdout",
     "output_type": "stream",
     "text": [
      "['AMZN', 'BA', 'CSCO']\n"
     ]
    }
   ],
   "source": [
    "print(titoli[1:4])"
   ]
  },
  {
   "cell_type": "code",
   "execution_count": 15,
   "metadata": {},
   "outputs": [
    {
     "name": "stdout",
     "output_type": "stream",
     "text": [
      "['MSFT', 'NFLX', 'PFE']\n"
     ]
    }
   ],
   "source": [
    "print(titoli[-4:-1])"
   ]
  },
  {
   "cell_type": "code",
   "execution_count": 16,
   "metadata": {},
   "outputs": [
    {
     "name": "stdout",
     "output_type": "stream",
     "text": [
      "[]\n"
     ]
    }
   ],
   "source": [
    "print(titoli[-1:-4])"
   ]
  },
  {
   "cell_type": "code",
   "execution_count": 17,
   "metadata": {},
   "outputs": [
    {
     "name": "stdout",
     "output_type": "stream",
     "text": [
      "['AAPL', 'BA', 'GOOG', 'MSFT']\n"
     ]
    }
   ],
   "source": [
    "print(titoli[0:8:2])"
   ]
  },
  {
   "cell_type": "code",
   "execution_count": 18,
   "metadata": {},
   "outputs": [
    {
     "name": "stdout",
     "output_type": "stream",
     "text": [
      "['AAPL', 'BA', 'GOOG', 'MSFT', 'PFE']\n"
     ]
    }
   ],
   "source": [
    "print(titoli[0::2])"
   ]
  },
  {
   "cell_type": "code",
   "execution_count": 19,
   "metadata": {},
   "outputs": [
    {
     "name": "stdout",
     "output_type": "stream",
     "text": [
      "['VZ', 'PFE', 'NFLX', 'MSFT', 'IBM', 'GOOG', 'CSCO', 'BA', 'AMZN', 'AAPL']\n"
     ]
    }
   ],
   "source": [
    "print(titoli[::-1])"
   ]
  },
  {
   "cell_type": "code",
   "execution_count": 20,
   "metadata": {},
   "outputs": [
    {
     "data": {
      "text/plain": [
       "['AAPL', 'AMZN', 'BA', 'CSCO', 'GOOG', 'IBM', 'MSFT', 'NFLX', 'PFE', 'VZ']"
      ]
     },
     "execution_count": 20,
     "metadata": {},
     "output_type": "execute_result"
    }
   ],
   "source": [
    "titoli"
   ]
  },
  {
   "cell_type": "code",
   "execution_count": 21,
   "metadata": {},
   "outputs": [
    {
     "data": {
      "text/plain": [
       "10"
      ]
     },
     "execution_count": 21,
     "metadata": {},
     "output_type": "execute_result"
    }
   ],
   "source": [
    "len(titoli)"
   ]
  },
  {
   "cell_type": "code",
   "execution_count": 22,
   "metadata": {},
   "outputs": [
    {
     "name": "stdout",
     "output_type": "stream",
     "text": [
      "AAPL\n",
      "AMZN\n",
      "BA\n",
      "CSCO\n",
      "GOOG\n",
      "IBM\n",
      "MSFT\n",
      "NFLX\n",
      "PFE\n",
      "VZ\n"
     ]
    }
   ],
   "source": [
    "i = 0\n",
    "while i < len(titoli):\n",
    "    print(titoli[i])\n",
    "    i += 1"
   ]
  },
  {
   "cell_type": "code",
   "execution_count": 23,
   "metadata": {},
   "outputs": [
    {
     "name": "stdout",
     "output_type": "stream",
     "text": [
      "AAPL\n",
      "AMZN\n",
      "BA\n",
      "CSCO\n",
      "GOOG\n",
      "IBM\n",
      "MSFT\n",
      "NFLX\n",
      "PFE\n",
      "VZ\n"
     ]
    }
   ],
   "source": [
    "for titolo in titoli:\n",
    "    print(titolo)"
   ]
  },
  {
   "cell_type": "markdown",
   "metadata": {},
   "source": [
    "#### Operazioni su Liste:"
   ]
  },
  {
   "cell_type": "code",
   "execution_count": 24,
   "metadata": {},
   "outputs": [
    {
     "name": "stdout",
     "output_type": "stream",
     "text": [
      "[]\n"
     ]
    }
   ],
   "source": [
    "nuova_lista = []\n",
    "\n",
    "print(nuova_lista)"
   ]
  },
  {
   "cell_type": "code",
   "execution_count": 25,
   "metadata": {},
   "outputs": [
    {
     "name": "stdout",
     "output_type": "stream",
     "text": [
      "['AAPL', 'AMZN', 'BA', 'CSCO', 'GOOG', 'IBM', 'MSFT', 'NFLX', 'PFE', 'VZ']\n"
     ]
    }
   ],
   "source": [
    "nuova_lista.append(\"AAPL\")\n",
    "nuova_lista.append(\"AMZN\")\n",
    "nuova_lista.append(\"BA\")\n",
    "nuova_lista.append(\"CSCO\")\n",
    "nuova_lista.append(\"GOOG\")\n",
    "nuova_lista.append(\"IBM\")\n",
    "nuova_lista.append(\"MSFT\")\n",
    "nuova_lista.append(\"NFLX\")\n",
    "nuova_lista.append(\"PFE\")\n",
    "nuova_lista.append(\"VZ\")\n",
    "\n",
    "print(nuova_lista)"
   ]
  },
  {
   "cell_type": "code",
   "execution_count": 26,
   "metadata": {},
   "outputs": [
    {
     "name": "stdout",
     "output_type": "stream",
     "text": [
      "['AAPL', 'AAL', 'BA', 'CSCO', 'GOOG', 'IBM', 'MSFT', 'NFLX', 'PFE', 'VZ']\n"
     ]
    }
   ],
   "source": [
    "nuova_lista[1] = \"AAL\"\n",
    "print(nuova_lista)"
   ]
  },
  {
   "cell_type": "code",
   "execution_count": 27,
   "metadata": {},
   "outputs": [
    {
     "name": "stdout",
     "output_type": "stream",
     "text": [
      "['AAPL', 'BA', 'CSCO', 'GOOG', 'IBM', 'MSFT', 'NFLX', 'PFE', 'VZ']\n"
     ]
    }
   ],
   "source": [
    "del nuova_lista[1]\n",
    "print(nuova_lista)"
   ]
  },
  {
   "cell_type": "code",
   "execution_count": 28,
   "metadata": {},
   "outputs": [
    {
     "name": "stdout",
     "output_type": "stream",
     "text": [
      "['AAPL', 'AAL', 'BA', 'CSCO', 'GOOG', 'IBM', 'MSFT', 'NFLX', 'PFE', 'VZ']\n"
     ]
    }
   ],
   "source": [
    "nuova_lista.insert(1,\"AAL\")\n",
    "print(nuova_lista)"
   ]
  },
  {
   "cell_type": "code",
   "execution_count": 29,
   "metadata": {},
   "outputs": [
    {
     "name": "stdout",
     "output_type": "stream",
     "text": [
      "['AAPL', 'BA', 'CSCO', 'GOOG', 'IBM', 'MSFT', 'NFLX', 'PFE', 'VZ']\n"
     ]
    }
   ],
   "source": [
    "nuova_lista.remove(\"AAL\")\n",
    "print(nuova_lista)"
   ]
  },
  {
   "cell_type": "code",
   "execution_count": 30,
   "metadata": {},
   "outputs": [
    {
     "name": "stdout",
     "output_type": "stream",
     "text": [
      "VZ\n"
     ]
    }
   ],
   "source": [
    "ultimo_elemento = nuova_lista.pop()\n",
    "print(ultimo_elemento)"
   ]
  },
  {
   "cell_type": "code",
   "execution_count": 31,
   "metadata": {},
   "outputs": [
    {
     "name": "stdout",
     "output_type": "stream",
     "text": [
      "['AAPL', 'BA', 'CSCO', 'GOOG', 'IBM', 'MSFT', 'NFLX', 'PFE']\n"
     ]
    }
   ],
   "source": [
    "print(nuova_lista)"
   ]
  },
  {
   "cell_type": "code",
   "execution_count": 32,
   "metadata": {},
   "outputs": [
    {
     "name": "stdout",
     "output_type": "stream",
     "text": [
      "CSCO\n"
     ]
    }
   ],
   "source": [
    "terzo_elemento = nuova_lista.pop(2)\n",
    "print(terzo_elemento)"
   ]
  },
  {
   "cell_type": "code",
   "execution_count": 33,
   "metadata": {},
   "outputs": [
    {
     "name": "stdout",
     "output_type": "stream",
     "text": [
      "['AAPL', 'BA', 'GOOG', 'IBM', 'MSFT', 'NFLX', 'PFE']\n"
     ]
    }
   ],
   "source": [
    "print(nuova_lista)"
   ]
  },
  {
   "cell_type": "markdown",
   "metadata": {},
   "source": [
    "#### Liste Numeriche:"
   ]
  },
  {
   "cell_type": "code",
   "execution_count": 34,
   "metadata": {},
   "outputs": [
    {
     "name": "stdout",
     "output_type": "stream",
     "text": [
      "[1, 2, 3, 4, 5, 6, 7, 8, 9, 10]\n"
     ]
    }
   ],
   "source": [
    "lista_numerica = []\n",
    "for x in range(1,11):\n",
    "    lista_numerica.append(x)\n",
    "    \n",
    "print(lista_numerica)"
   ]
  },
  {
   "cell_type": "markdown",
   "metadata": {},
   "source": [
    "List Comprehension:"
   ]
  },
  {
   "cell_type": "code",
   "execution_count": 35,
   "metadata": {},
   "outputs": [
    {
     "name": "stdout",
     "output_type": "stream",
     "text": [
      "[0, 1, 2, 3, 4, 5, 6, 7, 8, 9, 10]\n"
     ]
    }
   ],
   "source": [
    "lista_numerica = [x for x in range(11)]\n",
    "\n",
    "print(lista_numerica)"
   ]
  },
  {
   "cell_type": "code",
   "execution_count": 36,
   "metadata": {},
   "outputs": [
    {
     "name": "stdout",
     "output_type": "stream",
     "text": [
      "[0, 1, 4, 9, 16, 25, 36, 49, 64, 81, 100]\n"
     ]
    }
   ],
   "source": [
    "lista_numerica = [x**2 for x in range(11)]\n",
    "\n",
    "print(lista_numerica)"
   ]
  },
  {
   "cell_type": "markdown",
   "metadata": {},
   "source": [
    "Sorting (Ordinamento) e metodi con le liste:"
   ]
  },
  {
   "cell_type": "code",
   "execution_count": 37,
   "metadata": {},
   "outputs": [
    {
     "name": "stdout",
     "output_type": "stream",
     "text": [
      "[100, 81, 64, 49, 36, 25, 16, 9, 4, 1, 0]\n"
     ]
    }
   ],
   "source": [
    "lista_numerica.sort(reverse=True)\n",
    "\n",
    "print(lista_numerica)"
   ]
  },
  {
   "cell_type": "code",
   "execution_count": 38,
   "metadata": {},
   "outputs": [
    {
     "name": "stdout",
     "output_type": "stream",
     "text": [
      "[0, 1, 4, 9, 16, 25, 36, 49, 64, 81, 100]\n"
     ]
    }
   ],
   "source": [
    "lista_numerica.sort()\n",
    "\n",
    "print(lista_numerica)"
   ]
  },
  {
   "cell_type": "code",
   "execution_count": 39,
   "metadata": {},
   "outputs": [
    {
     "name": "stdout",
     "output_type": "stream",
     "text": [
      "[100, 81, 64, 49, 36, 25, 16, 9, 4, 1, 0]\n"
     ]
    }
   ],
   "source": [
    "lista_numerica.reverse()\n",
    "\n",
    "print(lista_numerica)"
   ]
  },
  {
   "cell_type": "code",
   "execution_count": 40,
   "metadata": {},
   "outputs": [
    {
     "data": {
      "text/plain": [
       "0"
      ]
     },
     "execution_count": 40,
     "metadata": {},
     "output_type": "execute_result"
    }
   ],
   "source": [
    "min(lista_numerica)"
   ]
  },
  {
   "cell_type": "code",
   "execution_count": 41,
   "metadata": {},
   "outputs": [
    {
     "data": {
      "text/plain": [
       "100"
      ]
     },
     "execution_count": 41,
     "metadata": {},
     "output_type": "execute_result"
    }
   ],
   "source": [
    "max(lista_numerica)"
   ]
  },
  {
   "cell_type": "code",
   "execution_count": 42,
   "metadata": {},
   "outputs": [
    {
     "data": {
      "text/plain": [
       "385"
      ]
     },
     "execution_count": 42,
     "metadata": {},
     "output_type": "execute_result"
    }
   ],
   "source": [
    "sum(lista_numerica)"
   ]
  },
  {
   "cell_type": "markdown",
   "metadata": {},
   "source": [
    "### Stringhe"
   ]
  },
  {
   "cell_type": "code",
   "execution_count": 43,
   "metadata": {},
   "outputs": [
    {
     "name": "stdout",
     "output_type": "stream",
     "text": [
      "Questa è una stringa\n"
     ]
    }
   ],
   "source": [
    "stringa = \"Questa è una stringa\"\n",
    "print(stringa)"
   ]
  },
  {
   "cell_type": "code",
   "execution_count": 44,
   "metadata": {},
   "outputs": [
    {
     "name": "stdout",
     "output_type": "stream",
     "text": [
      "Questa è una stringa\n"
     ]
    }
   ],
   "source": [
    "stringa = 'Questa è una stringa'\n",
    "print(stringa)"
   ]
  },
  {
   "cell_type": "code",
   "execution_count": 45,
   "metadata": {},
   "outputs": [
    {
     "name": "stdout",
     "output_type": "stream",
     "text": [
      "<class 'str'>\n"
     ]
    }
   ],
   "source": [
    "print(type(stringa))"
   ]
  },
  {
   "cell_type": "code",
   "execution_count": 46,
   "metadata": {},
   "outputs": [
    {
     "name": "stdout",
     "output_type": "stream",
     "text": [
      "20\n"
     ]
    }
   ],
   "source": [
    "print(len(stringa))"
   ]
  },
  {
   "cell_type": "code",
   "execution_count": 47,
   "metadata": {},
   "outputs": [
    {
     "name": "stdout",
     "output_type": "stream",
     "text": [
      "L'altro giorno\n"
     ]
    }
   ],
   "source": [
    "stringa = \"L'altro giorno\"\n",
    "print(stringa)"
   ]
  },
  {
   "cell_type": "code",
   "execution_count": 48,
   "metadata": {},
   "outputs": [
    {
     "name": "stdout",
     "output_type": "stream",
     "text": [
      "C:\\some\n",
      "ame\n"
     ]
    }
   ],
   "source": [
    "print('C:\\some\\name')"
   ]
  },
  {
   "cell_type": "code",
   "execution_count": 49,
   "metadata": {},
   "outputs": [
    {
     "name": "stdout",
     "output_type": "stream",
     "text": [
      "C:\\some\\name\n"
     ]
    }
   ],
   "source": [
    "print('C:\\\\some\\\\name')"
   ]
  },
  {
   "cell_type": "code",
   "execution_count": 50,
   "metadata": {},
   "outputs": [
    {
     "name": "stdout",
     "output_type": "stream",
     "text": [
      "0123456789\n"
     ]
    }
   ],
   "source": [
    "a = \"0123456789\"\n",
    "print(a)"
   ]
  },
  {
   "cell_type": "code",
   "execution_count": 51,
   "metadata": {},
   "outputs": [
    {
     "name": "stdout",
     "output_type": "stream",
     "text": [
      "10\n"
     ]
    }
   ],
   "source": [
    "print(len(a))"
   ]
  },
  {
   "cell_type": "code",
   "execution_count": 52,
   "metadata": {},
   "outputs": [
    {
     "name": "stdout",
     "output_type": "stream",
     "text": [
      "0\n"
     ]
    }
   ],
   "source": [
    "print(a[0])"
   ]
  },
  {
   "cell_type": "code",
   "execution_count": 53,
   "metadata": {},
   "outputs": [
    {
     "name": "stdout",
     "output_type": "stream",
     "text": [
      "9\n"
     ]
    }
   ],
   "source": [
    "print(a[-1])"
   ]
  },
  {
   "cell_type": "code",
   "execution_count": 54,
   "metadata": {},
   "outputs": [
    {
     "name": "stdout",
     "output_type": "stream",
     "text": [
      "7\n"
     ]
    }
   ],
   "source": [
    "print(a[-3])"
   ]
  },
  {
   "cell_type": "code",
   "execution_count": 55,
   "metadata": {},
   "outputs": [
    {
     "name": "stdout",
     "output_type": "stream",
     "text": [
      "23\n"
     ]
    }
   ],
   "source": [
    "print(a[2:4])"
   ]
  },
  {
   "cell_type": "code",
   "execution_count": 56,
   "metadata": {},
   "outputs": [
    {
     "name": "stdout",
     "output_type": "stream",
     "text": [
      "78\n"
     ]
    }
   ],
   "source": [
    "print(a[-3:-1])"
   ]
  },
  {
   "cell_type": "code",
   "execution_count": 57,
   "metadata": {},
   "outputs": [
    {
     "name": "stdout",
     "output_type": "stream",
     "text": [
      "9876543210\n"
     ]
    }
   ],
   "source": [
    "print(a[::-1])"
   ]
  },
  {
   "cell_type": "code",
   "execution_count": 58,
   "metadata": {},
   "outputs": [
    {
     "name": "stdout",
     "output_type": "stream",
     "text": [
      "147\n"
     ]
    }
   ],
   "source": [
    "print(a[1::3])"
   ]
  },
  {
   "cell_type": "code",
   "execution_count": 59,
   "metadata": {},
   "outputs": [
    {
     "name": "stdout",
     "output_type": "stream",
     "text": [
      "True\n"
     ]
    }
   ],
   "source": [
    "nuova_stringa = \"La scienza senza l'ingegneria sarebbe soltanto filosofia\"\n",
    "print(\"scienza\" in nuova_stringa) "
   ]
  },
  {
   "cell_type": "code",
   "execution_count": 60,
   "metadata": {},
   "outputs": [
    {
     "name": "stdout",
     "output_type": "stream",
     "text": [
      "False\n"
     ]
    }
   ],
   "source": [
    "nuova_stringa = \"La scienza senza l'ingegneria sarebbe soltanto filosofia\"\n",
    "print(not \"scienza\" in nuova_stringa) "
   ]
  },
  {
   "cell_type": "markdown",
   "metadata": {},
   "source": [
    "### Tuple"
   ]
  },
  {
   "cell_type": "markdown",
   "metadata": {},
   "source": [
    "Immutabili (contrariamente alle liste), computazionalmente più veloci e consentono risparmio di memoria."
   ]
  },
  {
   "cell_type": "markdown",
   "metadata": {},
   "source": [
    "Dalle liste alle tuple:"
   ]
  },
  {
   "cell_type": "code",
   "execution_count": 61,
   "metadata": {},
   "outputs": [
    {
     "name": "stdout",
     "output_type": "stream",
     "text": [
      "[(11.21, 11234), (11.34, 10765), (11.29, 8324), (11.67, 11333), (11.52, 10546), (11.11, 15998), (11.14, 7890), (11.22, 10236), (11.54, 21831), (11.75, 20755)]\n"
     ]
    }
   ],
   "source": [
    "chiusure = [11.21, 11.34, 11.29, 11.67, 11.52, 11.11, 11.14, 11.22, 11.54, 11.75]\n",
    "volumi = [11234, 10765, 8324, 11333, 10546, 15998, 7890, 10236, 21831, 20755]\n",
    "\n",
    "coppie = list(zip(chiusure,volumi))\n",
    "print(coppie)"
   ]
  },
  {
   "cell_type": "code",
   "execution_count": 62,
   "metadata": {},
   "outputs": [
    {
     "name": "stdout",
     "output_type": "stream",
     "text": [
      "<class 'tuple'>\n"
     ]
    }
   ],
   "source": [
    "print(type(coppie[0]))"
   ]
  },
  {
   "cell_type": "code",
   "execution_count": 63,
   "metadata": {},
   "outputs": [
    {
     "name": "stdout",
     "output_type": "stream",
     "text": [
      "('lunedì', 'martedì', 'mercoledì', 'giovedì', 'venerdì', 'sabato', 'domenica')\n"
     ]
    }
   ],
   "source": [
    "giorni_settimana = (\"lunedì\",\"martedì\",\"mercoledì\",\"giovedì\",\"venerdì\",\"sabato\",\"domenica\")\n",
    "print(giorni_settimana)"
   ]
  },
  {
   "cell_type": "code",
   "execution_count": 64,
   "metadata": {},
   "outputs": [
    {
     "ename": "TypeError",
     "evalue": "'tuple' object doesn't support item deletion",
     "output_type": "error",
     "traceback": [
      "\u001b[0;31m---------------------------------------------------------------------------\u001b[0m",
      "\u001b[0;31mTypeError\u001b[0m                                 Traceback (most recent call last)",
      "\u001b[0;32m<ipython-input-64-2f7c91a610e9>\u001b[0m in \u001b[0;36m<module>\u001b[0;34m\u001b[0m\n\u001b[0;32m----> 1\u001b[0;31m \u001b[0;32mdel\u001b[0m \u001b[0mgiorni_settimana\u001b[0m\u001b[0;34m[\u001b[0m\u001b[0;36m0\u001b[0m\u001b[0;34m]\u001b[0m\u001b[0;34m\u001b[0m\u001b[0;34m\u001b[0m\u001b[0m\n\u001b[0m",
      "\u001b[0;31mTypeError\u001b[0m: 'tuple' object doesn't support item deletion"
     ]
    }
   ],
   "source": [
    "del giorni_settimana[0]"
   ]
  },
  {
   "cell_type": "code",
   "execution_count": 65,
   "metadata": {},
   "outputs": [
    {
     "ename": "TypeError",
     "evalue": "'tuple' object does not support item assignment",
     "output_type": "error",
     "traceback": [
      "\u001b[0;31m---------------------------------------------------------------------------\u001b[0m",
      "\u001b[0;31mTypeError\u001b[0m                                 Traceback (most recent call last)",
      "\u001b[0;32m<ipython-input-65-89f1b7165239>\u001b[0m in \u001b[0;36m<module>\u001b[0;34m\u001b[0m\n\u001b[0;32m----> 1\u001b[0;31m \u001b[0mgiorni_settimana\u001b[0m\u001b[0;34m[\u001b[0m\u001b[0;36m0\u001b[0m\u001b[0;34m]\u001b[0m \u001b[0;34m=\u001b[0m \u001b[0;34m\"Lunedì\"\u001b[0m\u001b[0;34m\u001b[0m\u001b[0;34m\u001b[0m\u001b[0m\n\u001b[0m",
      "\u001b[0;31mTypeError\u001b[0m: 'tuple' object does not support item assignment"
     ]
    }
   ],
   "source": [
    "giorni_settimana[0] = \"Lunedì\""
   ]
  },
  {
   "cell_type": "markdown",
   "metadata": {},
   "source": [
    "### Set"
   ]
  },
  {
   "cell_type": "markdown",
   "metadata": {},
   "source": [
    "Insiemi non ordinati (non possiamo far riferimento alla posizione degli elementi), mutabili (add, remove, operazioni tra insiemi). Accesso ancora più rapido."
   ]
  },
  {
   "cell_type": "code",
   "execution_count": 66,
   "metadata": {},
   "outputs": [
    {
     "name": "stdout",
     "output_type": "stream",
     "text": [
      "{'SI', 'NQ', 'C', 'HG', 'PL', 'ES', 'GC', 'S', 'W', 'NG'}\n"
     ]
    }
   ],
   "source": [
    "strumenti_1 = {\"ES\",\"NQ\",\"NG\",\"GC\",\"SI\",\"PL\",\"HG\",\"C\",\"W\",\"S\"}\n",
    "print(strumenti_1)"
   ]
  },
  {
   "cell_type": "code",
   "execution_count": 67,
   "metadata": {},
   "outputs": [
    {
     "name": "stdout",
     "output_type": "stream",
     "text": [
      "<class 'set'>\n"
     ]
    }
   ],
   "source": [
    "print(type(strumenti_1))"
   ]
  },
  {
   "cell_type": "code",
   "execution_count": 68,
   "metadata": {},
   "outputs": [
    {
     "name": "stdout",
     "output_type": "stream",
     "text": [
      "{'SI', 'NQ', 'C', 'HG', 'PL', 'ES', 'GC', 'S', 'W', 'TY', 'NG'}\n"
     ]
    }
   ],
   "source": [
    "strumenti_1.add(\"TY\")\n",
    "\n",
    "print(strumenti_1)"
   ]
  },
  {
   "cell_type": "code",
   "execution_count": 69,
   "metadata": {},
   "outputs": [
    {
     "name": "stdout",
     "output_type": "stream",
     "text": [
      "{'SI', 'NQ', 'C', 'HG', 'PL', 'ES', 'GC', 'S', 'W', 'NG'}\n"
     ]
    }
   ],
   "source": [
    "strumenti_1.remove(\"TY\")\n",
    "\n",
    "print(strumenti_1)"
   ]
  },
  {
   "cell_type": "code",
   "execution_count": 70,
   "metadata": {},
   "outputs": [
    {
     "name": "stdout",
     "output_type": "stream",
     "text": [
      "{'SI', 'PL', 'FDAX', 'GC', 'FESX', 'S', 'FGBL'}\n"
     ]
    }
   ],
   "source": [
    "strumenti_2 = {\"FDAX\",\"FESX\",\"FGBL\",\"GC\",\"SI\",\"PL\",\"S\"}\n",
    "print(strumenti_2)"
   ]
  },
  {
   "cell_type": "code",
   "execution_count": 71,
   "metadata": {},
   "outputs": [
    {
     "name": "stdout",
     "output_type": "stream",
     "text": [
      "{'S', 'SI', 'PL', 'GC'}\n"
     ]
    }
   ],
   "source": [
    "print(strumenti_1.intersection(strumenti_2))"
   ]
  },
  {
   "cell_type": "code",
   "execution_count": 72,
   "metadata": {},
   "outputs": [
    {
     "name": "stdout",
     "output_type": "stream",
     "text": [
      "{'SI', 'NQ', 'C', 'FGBL', 'HG', 'PL', 'ES', 'FDAX', 'GC', 'FESX', 'S', 'W', 'NG'}\n"
     ]
    }
   ],
   "source": [
    "print(strumenti_1.union(strumenti_2))"
   ]
  },
  {
   "cell_type": "markdown",
   "metadata": {},
   "source": [
    "### Dictionaries"
   ]
  },
  {
   "cell_type": "code",
   "execution_count": 73,
   "metadata": {},
   "outputs": [
    {
     "name": "stdout",
     "output_type": "stream",
     "text": [
      "{'Strumento': 'AAPL', 'Operazioni': 124, 'Profitto': 13392, 'AvgTrade': 108, 'ProfitFactor': 1.65}\n"
     ]
    }
   ],
   "source": [
    "sistema = {\"Strumento\": \"AAPL\", \"Operazioni\": 124, \"Profitto\": 13392, \"AvgTrade\": 108, \"ProfitFactor\": 1.65}\n",
    "\n",
    "print(sistema)"
   ]
  },
  {
   "cell_type": "code",
   "execution_count": 74,
   "metadata": {},
   "outputs": [
    {
     "name": "stdout",
     "output_type": "stream",
     "text": [
      "5\n"
     ]
    }
   ],
   "source": [
    "print(len(sistema))"
   ]
  },
  {
   "cell_type": "code",
   "execution_count": 75,
   "metadata": {},
   "outputs": [
    {
     "name": "stdout",
     "output_type": "stream",
     "text": [
      "AAPL\n"
     ]
    }
   ],
   "source": [
    "print(sistema[\"Strumento\"])"
   ]
  },
  {
   "cell_type": "code",
   "execution_count": 76,
   "metadata": {},
   "outputs": [
    {
     "name": "stdout",
     "output_type": "stream",
     "text": [
      "108\n"
     ]
    }
   ],
   "source": [
    "print(sistema[\"AvgTrade\"])"
   ]
  },
  {
   "cell_type": "code",
   "execution_count": 77,
   "metadata": {},
   "outputs": [
    {
     "name": "stdout",
     "output_type": "stream",
     "text": [
      "{'Strumento': 'AAPL', 'Operazioni': 124, 'Profitto': 13392, 'AvgTrade': 108, 'ProfitFactor': 1.68}\n"
     ]
    }
   ],
   "source": [
    "sistema[\"ProfitFactor\"] = 1.68\n",
    "\n",
    "print(sistema)"
   ]
  },
  {
   "cell_type": "code",
   "execution_count": 78,
   "metadata": {},
   "outputs": [
    {
     "name": "stdout",
     "output_type": "stream",
     "text": [
      "{'Strumento': 'AAPL', 'Operazioni': 124, 'Profitto': 13392, 'AvgTrade': 108, 'ProfitFactor': 1.68, 'MaxDrawDown': -5600}\n"
     ]
    }
   ],
   "source": [
    "sistema[\"MaxDrawDown\"] = -5600\n",
    "\n",
    "print(sistema)"
   ]
  },
  {
   "cell_type": "code",
   "execution_count": 79,
   "metadata": {},
   "outputs": [
    {
     "name": "stdout",
     "output_type": "stream",
     "text": [
      "{'Strumento': 'IBM', 'Operazioni': 98, 'Profitto': 21658, 'AvgTrade': 221, 'ProfitFactor': 2.11, 'MaxDrawDown': -6634}\n"
     ]
    }
   ],
   "source": [
    "nuovo_sistema = {}\n",
    "\n",
    "nuovo_sistema[\"Strumento\"] = \"IBM\"\n",
    "nuovo_sistema[\"Operazioni\"] = 98\n",
    "nuovo_sistema[\"Profitto\"] = 21658\n",
    "nuovo_sistema[\"AvgTrade\"] = 221\n",
    "nuovo_sistema[\"ProfitFactor\"] = 2.11\n",
    "nuovo_sistema[\"MaxDrawDown\"] = -6634\n",
    "\n",
    "print(nuovo_sistema)"
   ]
  },
  {
   "cell_type": "code",
   "execution_count": 80,
   "metadata": {},
   "outputs": [
    {
     "name": "stdout",
     "output_type": "stream",
     "text": [
      "{'Strumento': 'IBM', 'Operazioni': 198, 'Profitto': 43758, 'AvgTrade': 221, 'ProfitFactor': 2.11, 'MaxDrawDown': -6634}\n"
     ]
    }
   ],
   "source": [
    "nuovo_sistema[\"Operazioni\"] = 198\n",
    "nuovo_sistema[\"Profitto\"] = 43758\n",
    "\n",
    "print(nuovo_sistema)"
   ]
  },
  {
   "cell_type": "code",
   "execution_count": 81,
   "metadata": {},
   "outputs": [
    {
     "name": "stdout",
     "output_type": "stream",
     "text": [
      "{'Strumento': 'IBM', 'Operazioni': 198, 'Profitto': 43758, 'AvgTrade': 221, 'ProfitFactor': 2.11}\n"
     ]
    }
   ],
   "source": [
    "del nuovo_sistema[\"MaxDrawDown\"]\n",
    "\n",
    "print(nuovo_sistema)"
   ]
  },
  {
   "cell_type": "markdown",
   "metadata": {},
   "source": [
    "Ciclo tra tutte le chiavi e i valori:"
   ]
  },
  {
   "cell_type": "code",
   "execution_count": 82,
   "metadata": {},
   "outputs": [
    {
     "name": "stdout",
     "output_type": "stream",
     "text": [
      "Strumento: AAPL\n",
      "Operazioni: 124\n",
      "Profitto: 13392\n",
      "AvgTrade: 108\n",
      "ProfitFactor: 1.68\n",
      "MaxDrawDown: -5600\n"
     ]
    }
   ],
   "source": [
    "for chiave, valore in sistema.items():\n",
    "    print(chiave + \": \" + str(valore))"
   ]
  },
  {
   "cell_type": "markdown",
   "metadata": {},
   "source": [
    "Ciclo tra tutte le chiavi:"
   ]
  },
  {
   "cell_type": "code",
   "execution_count": 83,
   "metadata": {},
   "outputs": [
    {
     "name": "stdout",
     "output_type": "stream",
     "text": [
      "Strumento\n",
      "Operazioni\n",
      "Profitto\n",
      "AvgTrade\n",
      "ProfitFactor\n",
      "MaxDrawDown\n"
     ]
    }
   ],
   "source": [
    "for chiave in sistema.keys():\n",
    "    print(chiave)"
   ]
  },
  {
   "cell_type": "markdown",
   "metadata": {},
   "source": [
    "Ciclo tra tutti i valori:"
   ]
  },
  {
   "cell_type": "code",
   "execution_count": 84,
   "metadata": {},
   "outputs": [
    {
     "name": "stdout",
     "output_type": "stream",
     "text": [
      "AAPL\n",
      "124\n",
      "13392\n",
      "108\n",
      "1.68\n",
      "-5600\n"
     ]
    }
   ],
   "source": [
    "for valore in sistema.values():\n",
    "    print(valore)"
   ]
  },
  {
   "cell_type": "markdown",
   "metadata": {},
   "source": [
    "Lista di dizionari:"
   ]
  },
  {
   "cell_type": "code",
   "execution_count": 85,
   "metadata": {},
   "outputs": [
    {
     "name": "stdout",
     "output_type": "stream",
     "text": [
      "[{'Strumento': 'AAPL', 'Operazioni': 124, 'Profitto': 13392, 'AvgTrade': 108, 'ProfitFactor': 1.68, 'MaxDrawDown': -5600}, {'Strumento': 'IBM', 'Operazioni': 198, 'Profitto': 43758, 'AvgTrade': 221, 'ProfitFactor': 2.11}]\n"
     ]
    }
   ],
   "source": [
    "sistemi = []\n",
    "\n",
    "sistemi.append(sistema)\n",
    "sistemi.append(nuovo_sistema)\n",
    "\n",
    "print(sistemi)"
   ]
  },
  {
   "cell_type": "code",
   "execution_count": 86,
   "metadata": {},
   "outputs": [
    {
     "name": "stdout",
     "output_type": "stream",
     "text": [
      "[{'Strumento': ['AAPL', 'BA', 'GE'], 'Operazioni': 124, 'Profitto': 13392, 'AvgTrade': 108, 'ProfitFactor': 1.68, 'MaxDrawDown': -5600}, {'Strumento': 'IBM', 'Operazioni': 198, 'Profitto': 43758, 'AvgTrade': 221, 'ProfitFactor': 2.11}]\n"
     ]
    }
   ],
   "source": [
    "sistemi[0][\"Strumento\"] = [\"AAPL\",\"BA\",\"GE\"]\n",
    "\n",
    "print(sistemi)"
   ]
  },
  {
   "cell_type": "markdown",
   "metadata": {},
   "source": [
    "### Funzioni"
   ]
  },
  {
   "cell_type": "code",
   "execution_count": 87,
   "metadata": {},
   "outputs": [
    {
     "name": "stdout",
     "output_type": "stream",
     "text": [
      "Hello World!\n"
     ]
    }
   ],
   "source": [
    "def helloworld():\n",
    "    \"\"\"\n",
    "    Funzione che stampa una stringa\n",
    "    \"\"\"\n",
    "    print(\"Hello World!\")\n",
    "    \n",
    "helloworld()"
   ]
  },
  {
   "cell_type": "code",
   "execution_count": 88,
   "metadata": {},
   "outputs": [
    {
     "name": "stdout",
     "output_type": "stream",
     "text": [
      "2.0\n"
     ]
    }
   ],
   "source": [
    "def divisione(numeratore, denominatore):\n",
    "    \"\"\"\n",
    "    Funzione che prende in input due numeri (numeratore e denominatore)\n",
    "    e restituisce il quoziente\n",
    "    \"\"\"\n",
    "    quoziente =  round(numeratore / denominatore, 4)\n",
    "    return quoziente\n",
    "\n",
    "print(divisione(22,11))"
   ]
  },
  {
   "cell_type": "code",
   "execution_count": 89,
   "metadata": {},
   "outputs": [
    {
     "name": "stdout",
     "output_type": "stream",
     "text": [
      "(2.0, 0)\n"
     ]
    }
   ],
   "source": [
    "def divisione2(numeratore, denominatore):\n",
    "    \"\"\"\n",
    "    Funzione che prende in input due numeri (numeratore e denominatore)\n",
    "    e restituisce quoziente e resto\n",
    "    \"\"\"\n",
    "    quoziente =  round(numeratore / denominatore, 4)\n",
    "    resto = numeratore % denominatore\n",
    "    return quoziente, resto\n",
    "\n",
    "print(divisione2(22,11))"
   ]
  },
  {
   "cell_type": "code",
   "execution_count": 90,
   "metadata": {},
   "outputs": [
    {
     "name": "stdout",
     "output_type": "stream",
     "text": [
      "90\n",
      "847\n"
     ]
    }
   ],
   "source": [
    "def profit(*operazioni):\n",
    "    \"\"\"\n",
    "    Sistema che calcola la sommatoria \n",
    "    di un numero imprecisato di operazioni\n",
    "    \"\"\"\n",
    "    profitto = 0\n",
    "    for operazione in operazioni:\n",
    "        profitto += operazione\n",
    "    return profitto\n",
    "\n",
    "print(profit(100,20,-30))\n",
    "print(profit(10,200,300,5,-98,430))"
   ]
  },
  {
   "cell_type": "markdown",
   "metadata": {},
   "source": [
    "#### Lambda"
   ]
  },
  {
   "cell_type": "markdown",
   "metadata": {},
   "source": [
    "A singola variabile:"
   ]
  },
  {
   "cell_type": "code",
   "execution_count": 91,
   "metadata": {},
   "outputs": [
    {
     "name": "stdout",
     "output_type": "stream",
     "text": [
      "5.0\n"
     ]
    }
   ],
   "source": [
    "def square_root(x):\n",
    "    return x ** 0.5\n",
    "\n",
    "print(square_root(25))"
   ]
  },
  {
   "cell_type": "code",
   "execution_count": 92,
   "metadata": {},
   "outputs": [
    {
     "name": "stdout",
     "output_type": "stream",
     "text": [
      "5.0\n"
     ]
    }
   ],
   "source": [
    "print((lambda x: x ** 0.5)(25))"
   ]
  },
  {
   "cell_type": "markdown",
   "metadata": {},
   "source": [
    "A doppia variabile:"
   ]
  },
  {
   "cell_type": "code",
   "execution_count": 93,
   "metadata": {},
   "outputs": [
    {
     "name": "stdout",
     "output_type": "stream",
     "text": [
      "33\n"
     ]
    }
   ],
   "source": [
    "def somma(x,y):\n",
    "    return x + y\n",
    "\n",
    "print(somma(11,22))"
   ]
  },
  {
   "cell_type": "code",
   "execution_count": 94,
   "metadata": {},
   "outputs": [
    {
     "name": "stdout",
     "output_type": "stream",
     "text": [
      "33\n"
     ]
    }
   ],
   "source": [
    "print((lambda x , y: x + y)(11,22))"
   ]
  },
  {
   "cell_type": "markdown",
   "metadata": {},
   "source": [
    "Esempio lambda condizionale:"
   ]
  },
  {
   "cell_type": "code",
   "execution_count": 95,
   "metadata": {},
   "outputs": [
    {
     "name": "stdout",
     "output_type": "stream",
     "text": [
      "1\n",
      "2\n",
      "27\n",
      "4\n",
      "125\n",
      "6\n",
      "343\n",
      "8\n",
      "729\n",
      "10\n"
     ]
    }
   ],
   "source": [
    "array = [1,2,3,4,5,6,7,8,9,10] \n",
    "\n",
    "for element in array:\n",
    "    print((lambda x: x if x % 2 == 0 else x ** 3)(element))"
   ]
  },
  {
   "cell_type": "markdown",
   "metadata": {},
   "source": [
    "Funzione Map:"
   ]
  },
  {
   "cell_type": "code",
   "execution_count": 96,
   "metadata": {},
   "outputs": [
    {
     "name": "stdout",
     "output_type": "stream",
     "text": [
      "[1, 4, 9, 16, 25, 36, 49, 64, 81, 100]\n"
     ]
    }
   ],
   "source": [
    "def potenza(x):\n",
    "    return x**2\n",
    "\n",
    "numeri = [1,2,3,4,5,6,7,8,9,10]\n",
    "potenze = list(map(potenza,numeri))\n",
    "print(potenze)"
   ]
  },
  {
   "cell_type": "code",
   "execution_count": 97,
   "metadata": {},
   "outputs": [
    {
     "name": "stdout",
     "output_type": "stream",
     "text": [
      "[1, 4, 9, 16, 25, 36, 49, 64, 81, 100]\n"
     ]
    }
   ],
   "source": [
    "numeri = [1,2,3,4,5,6,7,8,9,10]\n",
    "potenze = list(map(lambda x: x**2,numeri))\n",
    "print(potenze)"
   ]
  },
  {
   "cell_type": "markdown",
   "metadata": {},
   "source": [
    "### Paradigma ad Oggetti"
   ]
  },
  {
   "cell_type": "markdown",
   "metadata": {},
   "source": [
    "Il metodo __init__ o costruttore:"
   ]
  },
  {
   "cell_type": "code",
   "execution_count": 98,
   "metadata": {},
   "outputs": [
    {
     "name": "stdout",
     "output_type": "stream",
     "text": [
      "100000\n"
     ]
    }
   ],
   "source": [
    "class Portafoglio():\n",
    "    \n",
    "    def __init__(self,denaro):\n",
    "        self.denaro = denaro\n",
    "        \n",
    "mio_portafoglio = Portafoglio(100000)\n",
    "print(mio_portafoglio.denaro)"
   ]
  },
  {
   "cell_type": "code",
   "execution_count": 99,
   "metadata": {},
   "outputs": [
    {
     "name": "stdout",
     "output_type": "stream",
     "text": [
      "100000\n",
      "EUR\n"
     ]
    }
   ],
   "source": [
    "class Portafoglio():\n",
    "    \n",
    "    def __init__(self,denaro):\n",
    "        self.denaro = denaro\n",
    "        self.valuta = \"EUR\"\n",
    "        \n",
    "mio_portafoglio = Portafoglio(100000)\n",
    "print(mio_portafoglio.denaro)\n",
    "print(mio_portafoglio.valuta)"
   ]
  },
  {
   "cell_type": "markdown",
   "metadata": {},
   "source": [
    "Metodi della classe:"
   ]
  },
  {
   "cell_type": "code",
   "execution_count": 100,
   "metadata": {},
   "outputs": [
    {
     "name": "stdout",
     "output_type": "stream",
     "text": [
      "Denaro presente: 100000 EUR\n"
     ]
    }
   ],
   "source": [
    "class Portafoglio():\n",
    "    \n",
    "    def __init__(self,denaro):\n",
    "        self.denaro = denaro\n",
    "        self.valuta = \"EUR\"\n",
    "        \n",
    "    def stampa_conto(self):\n",
    "        return \"Denaro presente: \" + str(self.denaro) + \" \" + self.valuta\n",
    "    \n",
    "mio_portafoglio = Portafoglio(100000)\n",
    "print(mio_portafoglio.stampa_conto())"
   ]
  },
  {
   "cell_type": "markdown",
   "metadata": {},
   "source": [
    "Metodi \"Speciali\":"
   ]
  },
  {
   "cell_type": "code",
   "execution_count": 101,
   "metadata": {},
   "outputs": [
    {
     "name": "stdout",
     "output_type": "stream",
     "text": [
      "Denaro presente: 100000 EUR\n"
     ]
    }
   ],
   "source": [
    "class Portafoglio():\n",
    "    \n",
    "    def __init__(self,denaro):\n",
    "        self.denaro = denaro\n",
    "        self.valuta = \"EUR\"\n",
    "        \n",
    "    def __str__(self):\n",
    "        return \"Denaro presente: \" + str(self.denaro) + \" \" + self.valuta\n",
    "        \n",
    "mio_portafoglio = Portafoglio(100000)\n",
    "print(mio_portafoglio)"
   ]
  },
  {
   "cell_type": "markdown",
   "metadata": {},
   "source": [
    "Classe completa:"
   ]
  },
  {
   "cell_type": "code",
   "execution_count": 102,
   "metadata": {},
   "outputs": [
    {
     "name": "stdout",
     "output_type": "stream",
     "text": [
      "Denaro presente: 100000 EUR\n"
     ]
    }
   ],
   "source": [
    "class Portafoglio():\n",
    "    \n",
    "    def __init__(self,denaro):\n",
    "        self.denaro = denaro\n",
    "        self.valuta = \"EUR\"\n",
    "        \n",
    "    def stampa_conto(self):\n",
    "        return \"Denaro presente: \" + str(self.denaro) + \" \" + self.valuta\n",
    "        \n",
    "    def transazione(self,ammontare):\n",
    "        if ammontare < 0 and abs(ammontare) > self.denaro:\n",
    "            print(\"Sul conto non è presente denaro sufficiente per effettuare l'operazione!\")\n",
    "        else:\n",
    "            self.denaro += ammontare\n",
    "        \n",
    "mio_portafoglio = Portafoglio(100000)\n",
    "print(mio_portafoglio.stampa_conto())"
   ]
  },
  {
   "cell_type": "code",
   "execution_count": 103,
   "metadata": {},
   "outputs": [
    {
     "name": "stdout",
     "output_type": "stream",
     "text": [
      "Sul conto non è presente denaro sufficiente per effettuare l'operazione!\n",
      "Denaro presente: 100000 EUR\n"
     ]
    }
   ],
   "source": [
    "mio_portafoglio.transazione(-250000)\n",
    "print(mio_portafoglio.stampa_conto())"
   ]
  },
  {
   "cell_type": "code",
   "execution_count": 104,
   "metadata": {},
   "outputs": [
    {
     "name": "stdout",
     "output_type": "stream",
     "text": [
      "Denaro presente: 103710 EUR\n"
     ]
    }
   ],
   "source": [
    "mio_portafoglio.transazione(-2100)\n",
    "mio_portafoglio.transazione(4560)\n",
    "mio_portafoglio.transazione(1250)\n",
    "print(mio_portafoglio.stampa_conto())"
   ]
  },
  {
   "cell_type": "code",
   "execution_count": 105,
   "metadata": {},
   "outputs": [
    {
     "name": "stdout",
     "output_type": "stream",
     "text": [
      "Denaro presente: 83710 EUR\n"
     ]
    }
   ],
   "source": [
    "mio_portafoglio.transazione(-20000)\n",
    "print(mio_portafoglio.stampa_conto())"
   ]
  },
  {
   "cell_type": "code",
   "execution_count": null,
   "metadata": {},
   "outputs": [],
   "source": []
  }
 ],
 "metadata": {
  "kernelspec": {
   "display_name": "Python 3",
   "language": "python",
   "name": "python3"
  },
  "language_info": {
   "codemirror_mode": {
    "name": "ipython",
    "version": 3
   },
   "file_extension": ".py",
   "mimetype": "text/x-python",
   "name": "python",
   "nbconvert_exporter": "python",
   "pygments_lexer": "ipython3",
   "version": "3.7.4"
  }
 },
 "nbformat": 4,
 "nbformat_minor": 2
}
